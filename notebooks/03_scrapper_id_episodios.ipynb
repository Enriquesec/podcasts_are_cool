{
 "cells": [
  {
   "cell_type": "code",
   "execution_count": 1,
   "metadata": {},
   "outputs": [],
   "source": [
    "import pandas as pd\n",
    "import numpy as np\n",
    "\n",
    "import spotipy\n",
    "from spotipy.oauth2 import SpotifyClientCredentials"
   ]
  },
  {
   "cell_type": "code",
   "execution_count": 2,
   "metadata": {},
   "outputs": [],
   "source": [
    "# credenciales\n",
    "client_id = 'XXXXXX'        \n",
    "client_secret = 'XXXX'       \n",
    "\n",
    "# nos conectamos a la api\n",
    "client_credentials_manager = SpotifyClientCredentials( client_id=client_id, client_secret=client_secret)\n",
    "sp = spotipy.Spotify(client_credentials_manager=client_credentials_manager, language=\"es\", \n",
    "                    requests_timeout=30, retries=10)"
   ]
  },
  {
   "cell_type": "code",
   "execution_count": 3,
   "metadata": {},
   "outputs": [],
   "source": [
    "# cargamos los id de los podcast y filtramos los que no tengan episodios\n",
    "id_podcast = pd.read_csv(\"data/processed/podcats_en_espanol.csv\")\n",
    "id_podcast = id_podcast[id_podcast.episodios>0] "
   ]
  },
  {
   "cell_type": "code",
   "execution_count": 5,
   "metadata": {},
   "outputs": [
    {
     "data": {
      "text/plain": [
       "17416"
      ]
     },
     "execution_count": 5,
     "metadata": {},
     "output_type": "execute_result"
    }
   ],
   "source": [
    "len(id_podcast.name.unique())"
   ]
  },
  {
   "cell_type": "code",
   "execution_count": 71,
   "metadata": {},
   "outputs": [
    {
     "data": {
      "text/plain": [
       "(17823, 5)"
      ]
     },
     "execution_count": 71,
     "metadata": {},
     "output_type": "execute_result"
    }
   ],
   "source": [
    "id_podcast.shape"
   ]
  },
  {
   "cell_type": "code",
   "execution_count": 6,
   "metadata": {},
   "outputs": [
    {
     "data": {
      "text/html": [
       "<div>\n",
       "<style scoped>\n",
       "    .dataframe tbody tr th:only-of-type {\n",
       "        vertical-align: middle;\n",
       "    }\n",
       "\n",
       "    .dataframe tbody tr th {\n",
       "        vertical-align: top;\n",
       "    }\n",
       "\n",
       "    .dataframe thead th {\n",
       "        text-align: right;\n",
       "    }\n",
       "</style>\n",
       "<table border=\"1\" class=\"dataframe\">\n",
       "  <thead>\n",
       "    <tr style=\"text-align: right;\">\n",
       "      <th></th>\n",
       "      <th>name</th>\n",
       "      <th>id_list</th>\n",
       "      <th>fecha</th>\n",
       "      <th>episodios</th>\n",
       "      <th>languages</th>\n",
       "    </tr>\n",
       "  </thead>\n",
       "  <tbody>\n",
       "    <tr>\n",
       "      <th>0</th>\n",
       "      <td>Aprende Ajedrez</td>\n",
       "      <td>2m5k3Lo5WZFmGy4YxJ2Z8E</td>\n",
       "      <td>FIDE América CCA</td>\n",
       "      <td>9</td>\n",
       "      <td>es</td>\n",
       "    </tr>\n",
       "    <tr>\n",
       "      <th>1</th>\n",
       "      <td>Ajedrez Karpoviano's Podcast</td>\n",
       "      <td>1lVA7pWZtkFbpgVjhPinwM</td>\n",
       "      <td>Adán AlmVer</td>\n",
       "      <td>13</td>\n",
       "      <td>es</td>\n",
       "    </tr>\n",
       "    <tr>\n",
       "      <th>2</th>\n",
       "      <td>Ajedrez En blanco Y Negro</td>\n",
       "      <td>69C8WDhuKWCfsq48P7kuvG</td>\n",
       "      <td>Eduardo Hernandez</td>\n",
       "      <td>37</td>\n",
       "      <td>es</td>\n",
       "    </tr>\n",
       "    <tr>\n",
       "      <th>3</th>\n",
       "      <td>El AJEDREZ Y LA VIDA</td>\n",
       "      <td>6XNumwNnef6ybP4yjSbAKG</td>\n",
       "      <td>Leonor Asilis</td>\n",
       "      <td>39</td>\n",
       "      <td>es</td>\n",
       "    </tr>\n",
       "    <tr>\n",
       "      <th>4</th>\n",
       "      <td>Estación Ajedrez</td>\n",
       "      <td>5kMhEyUj8TaR80bRrjMQdM</td>\n",
       "      <td>360 Radio Chile</td>\n",
       "      <td>19</td>\n",
       "      <td>es</td>\n",
       "    </tr>\n",
       "  </tbody>\n",
       "</table>\n",
       "</div>"
      ],
      "text/plain": [
       "                           name                 id_list              fecha  \\\n",
       "0              Aprende Ajedrez   2m5k3Lo5WZFmGy4YxJ2Z8E   FIDE América CCA   \n",
       "1  Ajedrez Karpoviano's Podcast  1lVA7pWZtkFbpgVjhPinwM        Adán AlmVer   \n",
       "2     Ajedrez En blanco Y Negro  69C8WDhuKWCfsq48P7kuvG  Eduardo Hernandez   \n",
       "3          El AJEDREZ Y LA VIDA  6XNumwNnef6ybP4yjSbAKG      Leonor Asilis   \n",
       "4              Estación Ajedrez  5kMhEyUj8TaR80bRrjMQdM    360 Radio Chile   \n",
       "\n",
       "   episodios languages  \n",
       "0          9        es  \n",
       "1         13        es  \n",
       "2         37        es  \n",
       "3         39        es  \n",
       "4         19        es  "
      ]
     },
     "execution_count": 6,
     "metadata": {},
     "output_type": "execute_result"
    }
   ],
   "source": [
    "id_podcast.head()"
   ]
  },
  {
   "cell_type": "code",
   "execution_count": 72,
   "metadata": {
    "scrolled": true
   },
   "outputs": [],
   "source": [
    "# inicializamos las listas a ocupar.\n",
    "description = []\n",
    "duration = []\n",
    "id_episodio = []\n",
    "language = []\n",
    "name = []\n",
    "release_date = []\n",
    "typ = []\n",
    "name_podcast = []\n",
    "publiser = []\n",
    "id_publiser = []\n",
    "total_episodios = []\n",
    "\n",
    "\n",
    "for i in range(0, id_podcast.shape[0]): # iteramos por todos los id de los podcasts.\n",
    "    for num in range(0, id_podcast.loc[i,\"episodios\"], 50): # iteramos por el numero de episodios\n",
    "        episodios = sp.show_episodes(show_id=id_podcast.loc[i, \"id_list\"], limit=50, offset=num, \n",
    "                                     market=\"MX\") # realizamos la consulta\n",
    "        for p, t in enumerate(episodios[\"items\"]):\n",
    "            # agregamos la informacion\n",
    "            total_episodios.append(id_podcast.loc[i,\"episodios\"])\n",
    "            name_podcast.append(id_podcast.loc[i, \"name\"])\n",
    "            publiser.append(id_podcast.loc[i, \"fecha\"])\n",
    "            id_publiser.append(id_podcast.loc[i, \"id_list\"])\n",
    "            description.append(t[\"description\"])\n",
    "            duration.append(t[\"duration_ms\"])\n",
    "            id_episodio.append(t[\"id\"])\n",
    "            language.append(t[\"language\"])\n",
    "            name.append(t[\"name\"])\n",
    "            release_date.append(t[\"release_date\"])\n",
    "            typ.append(t[\"type\"])\n",
    "    if (i%100)==0:\n",
    "        print(i)\n",
    "        \n",
    "# creamos el dataframe con todos los capitulos\n",
    "df_datos = pd.DataFrame({'name_podcast':name_podcast, \"publiser\":publiser, \"id_publiser\":id_publiser, \"total_episodios\":total_episodios,\n",
    "                         \"description\":description, \"duration\":duration, \"id_episodio\": id_episodio,\n",
    "                         \"language\":language, \"name_episodio\":name, \"release_date\":release_date,\n",
    "                         \"type\":typ})\n"
   ]
  },
  {
   "cell_type": "code",
   "execution_count": null,
   "metadata": {},
   "outputs": [],
   "source": [
    "# guardamos el dataframe procesado.\n",
    "df_datos.to_csv(\"data/processed/episodios/cap_complete.csv\", index=False)"
   ]
  },
  {
   "cell_type": "code",
   "execution_count": 75,
   "metadata": {},
   "outputs": [
    {
     "data": {
      "text/html": [
       "<div>\n",
       "<style scoped>\n",
       "    .dataframe tbody tr th:only-of-type {\n",
       "        vertical-align: middle;\n",
       "    }\n",
       "\n",
       "    .dataframe tbody tr th {\n",
       "        vertical-align: top;\n",
       "    }\n",
       "\n",
       "    .dataframe thead th {\n",
       "        text-align: right;\n",
       "    }\n",
       "</style>\n",
       "<table border=\"1\" class=\"dataframe\">\n",
       "  <thead>\n",
       "    <tr style=\"text-align: right;\">\n",
       "      <th></th>\n",
       "      <th>name_podcast</th>\n",
       "      <th>publiser</th>\n",
       "      <th>id_publiser</th>\n",
       "      <th>total_episodios</th>\n",
       "      <th>description</th>\n",
       "      <th>duration</th>\n",
       "      <th>id_episodio</th>\n",
       "      <th>language</th>\n",
       "      <th>name_episodio</th>\n",
       "      <th>release_date</th>\n",
       "      <th>type</th>\n",
       "    </tr>\n",
       "  </thead>\n",
       "  <tbody>\n",
       "    <tr>\n",
       "      <th>0</th>\n",
       "      <td>Vida Nueva</td>\n",
       "      <td>Ktysnow</td>\n",
       "      <td>0M01Eu3Fhq9XaDjGMpiIhF</td>\n",
       "      <td>1</td>\n",
       "      <td>prueba de podcast 1</td>\n",
       "      <td>19551</td>\n",
       "      <td>5AgvWjChzzQIadSMuSSH8Z</td>\n",
       "      <td>es-MX</td>\n",
       "      <td>episodio 1 Vida Nueva</td>\n",
       "      <td>2021-07-20</td>\n",
       "      <td>episode</td>\n",
       "    </tr>\n",
       "  </tbody>\n",
       "</table>\n",
       "</div>"
      ],
      "text/plain": [
       "  name_podcast publiser             id_publiser  total_episodios  \\\n",
       "0  Vida Nueva   Ktysnow  0M01Eu3Fhq9XaDjGMpiIhF                1   \n",
       "\n",
       "           description  duration             id_episodio language  \\\n",
       "0  prueba de podcast 1     19551  5AgvWjChzzQIadSMuSSH8Z    es-MX   \n",
       "\n",
       "           name_episodio release_date     type  \n",
       "0  episodio 1 Vida Nueva   2021-07-20  episode  "
      ]
     },
     "execution_count": 75,
     "metadata": {},
     "output_type": "execute_result"
    }
   ],
   "source": [
    "df_datos.head(1)"
   ]
  },
  {
   "cell_type": "code",
   "execution_count": 76,
   "metadata": {},
   "outputs": [],
   "source": []
  }
 ],
 "metadata": {
  "kernelspec": {
   "display_name": "Python 3",
   "language": "python",
   "name": "python3"
  },
  "language_info": {
   "codemirror_mode": {
    "name": "ipython",
    "version": 3
   },
   "file_extension": ".py",
   "mimetype": "text/x-python",
   "name": "python",
   "nbconvert_exporter": "python",
   "pygments_lexer": "ipython3",
   "version": "3.7.6"
  }
 },
 "nbformat": 4,
 "nbformat_minor": 4
}

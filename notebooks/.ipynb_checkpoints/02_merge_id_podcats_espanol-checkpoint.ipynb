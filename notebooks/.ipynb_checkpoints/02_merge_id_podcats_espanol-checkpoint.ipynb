{
 "cells": [
  {
   "cell_type": "code",
   "execution_count": 52,
   "metadata": {},
   "outputs": [],
   "source": [
    "# cargamos las librerias\n",
    "import pandas as pd\n",
    "import numpy as np\n",
    "import os\n",
    "import glob "
   ]
  },
  {
   "cell_type": "code",
   "execution_count": 70,
   "metadata": {},
   "outputs": [],
   "source": [
    "# leemos los archivos en cierta ubicacion\n",
    "paths = os.listdir(\"data/raw/id_podcast\")\n",
    "\n",
    "# inicializamos un dataframe\n",
    "df_final = pd.DataFrame(columns=['name', 'id_list', 'fecha', 'episodios', 'languages'])\n",
    "\n",
    "# cargamos los archivos de los id podcasts.\n",
    "for path in paths:\n",
    "    df = pd.read_csv(\"data/raw/id_podcast/\"+path)\n",
    "    df_final = pd.concat([df_final, df])"
   ]
  },
  {
   "cell_type": "code",
   "execution_count": 75,
   "metadata": {},
   "outputs": [],
   "source": [
    "# eliminamos duplicados y seleccionamos los que son en espanol\n",
    "df_final = df_final.drop_duplicates(\"id_list\")\n",
    "df_final = df_final[df_final.languages.str.startswith(\"es\", na = False)]"
   ]
  },
  {
   "cell_type": "code",
   "execution_count": 76,
   "metadata": {},
   "outputs": [],
   "source": [
    "# escribimos el dataframe procesado\n",
    "df_final.to_csv(\"data/processed/podcats_en_espanol.csv\", index=False)"
   ]
  }
 ],
 "metadata": {
  "kernelspec": {
   "display_name": "Python 3",
   "language": "python",
   "name": "python3"
  },
  "language_info": {
   "codemirror_mode": {
    "name": "ipython",
    "version": 3
   },
   "file_extension": ".py",
   "mimetype": "text/x-python",
   "name": "python",
   "nbconvert_exporter": "python",
   "pygments_lexer": "ipython3",
   "version": "3.7.6"
  }
 },
 "nbformat": 4,
 "nbformat_minor": 4
}

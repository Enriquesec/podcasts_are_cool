{
 "cells": [
  {
   "cell_type": "code",
   "execution_count": 63,
   "metadata": {},
   "outputs": [],
   "source": [
    "import pandas as pd\n",
    "import numpy as np\n",
    "\n",
    "import spotipy\n",
    "from spotipy.oauth2 import SpotifyClientCredentials"
   ]
  },
  {
   "cell_type": "code",
   "execution_count": 2,
   "metadata": {},
   "outputs": [],
   "source": [
    "#!pip install urllib3==1.26.0"
   ]
  },
  {
   "cell_type": "code",
   "execution_count": 58,
   "metadata": {},
   "outputs": [],
   "source": [
    "# credenciales\n",
    "client_id = 'XXXXXX'        \n",
    "client_secret = 'XXXX'       \n",
    "\n",
    "# nos conectamos a la api\n",
    "client_credentials_manager = SpotifyClientCredentials( client_id=client_id, client_secret=client_secret)\n",
    "sp = spotipy.Spotify(client_credentials_manager=client_credentials_manager, language=\"es\")"
   ]
  },
  {
   "cell_type": "code",
   "execution_count": null,
   "metadata": {},
   "outputs": [],
   "source": [
    "# buscamos palabras claves\n",
    "words = [\"leyenda\", \"creativo\", \"datos\", \"comedia\", \"cultura\", \"idioma\", \"musica\", \"mente\", \"escuelas\", \n",
    "         \"libros\", \"noticias\", \"deportes\", \"tecnología\", \"comida\", \"tacos\", \"educacion\", \"politica\", \n",
    "         \"negocios\", \"autoayuda\", \"historia\", \"finanzas\", \"arte\", \"entretenimiento\", \"terror\", \"novelas\", \n",
    "         \"juegos\", \"ajedrez\", \"salud\", \"nutricion\"]"
   ]
  },
  {
   "cell_type": "code",
   "execution_count": 62,
   "metadata": {},
   "outputs": [
    {
     "name": "stdout",
     "output_type": "stream",
     "text": [
      "terror (1000, 5)\n",
      "novelas (1000, 5)\n",
      "juegos (1000, 5)\n",
      "ajedrez (49, 5)\n",
      "salud (1000, 5)\n",
      "nutricion (1000, 5)\n"
     ]
    }
   ],
   "source": [
    "for pal in words:\n",
    "    # inicializamos las lista a ocupar\n",
    "    id_list = []\n",
    "    name = []\n",
    "    fecha = []\n",
    "    episodios = []\n",
    "    languages = []\n",
    "    for i in range(0,1000,50): # buscamos 1000 podcats de cada tema\n",
    "        track_results = sp.search(q=pal, type='show', limit=50, offset=i, market=\"MX\")\n",
    "        for i, t in enumerate(track_results['shows']['items']):\n",
    "            # agregamos la informacion importate de los podcasts.\n",
    "            id_list.append(t[\"id\"])\n",
    "            name.append(t[\"name\"])\n",
    "            fecha.append(t[\"publisher\"])\n",
    "            episodios.append(t[\"total_episodes\"])\n",
    "            languages.append(t[\"languages\"])\n",
    "\n",
    "    # creamos el dataframe con los datos.\n",
    "    df_datos = pd.DataFrame({'name':name,'id_list':id_list,'fecha':fecha,'episodios':episodios,\n",
    "                             \"languages\":languages})\n",
    "    df_datos[\"languages\"] = [x[0] for x in df_datos[\"languages\"]]\n",
    "\n",
    "    print(pal, df_datos.shape)\n",
    "    # guadamos los datos.\n",
    "    df_datos.to_csv(\"data/raw/id_podcast/\"+pal+\".csv\", index=False)"
   ]
  }
 ],
 "metadata": {
  "kernelspec": {
   "display_name": "Python 3",
   "language": "python",
   "name": "python3"
  },
  "language_info": {
   "codemirror_mode": {
    "name": "ipython",
    "version": 3
   },
   "file_extension": ".py",
   "mimetype": "text/x-python",
   "name": "python",
   "nbconvert_exporter": "python",
   "pygments_lexer": "ipython3",
   "version": "3.7.6"
  }
 },
 "nbformat": 4,
 "nbformat_minor": 4
}
